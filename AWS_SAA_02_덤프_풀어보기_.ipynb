{
  "nbformat": 4,
  "nbformat_minor": 0,
  "metadata": {
    "colab": {
      "name": "AWS SAA 02 덤프 풀어보기 .ipynb",
      "provenance": [],
      "authorship_tag": "ABX9TyOAOnNpDOxNSf/CEmZLdPG8",
      "include_colab_link": true
    },
    "kernelspec": {
      "name": "python3",
      "display_name": "Python 3"
    },
    "language_info": {
      "name": "python"
    }
  },
  "cells": [
    {
      "cell_type": "markdown",
      "metadata": {
        "id": "view-in-github",
        "colab_type": "text"
      },
      "source": [
        "<a href=\"https://colab.research.google.com/github/helookscool/CLOUD/blob/main/AWS_SAA_02_%EB%8D%A4%ED%94%84_%ED%92%80%EC%96%B4%EB%B3%B4%EA%B8%B0_.ipynb\" target=\"_parent\"><img src=\"https://colab.research.google.com/assets/colab-badge.svg\" alt=\"Open In Colab\"/></a>"
      ]
    },
    {
      "cell_type": "markdown",
      "metadata": {
        "id": "4Rjk2zSrTuHF"
      },
      "source": [
        "# 문제\n",
        "A solutions architect is designing a solution where users will be directed to a backup static error page if the primary website is unavailable. The primary websiteג€™s DNS records are hosted in Amazon Route 53 where their domain is pointing to an Application Load Balancer (ALB).\n",
        "Which configuration should the solutions architect use to meet the companyג€™s needs while minimizing changes and infrastructure overhead?\n",
        "\n",
        "\n",
        "A. Point a Route 53 alias record to an Amazon CloudFront distribution with the ALB as one of its origins. Then, create custom error pages for the distribution.\n",
        "\n",
        "\n",
        "B. Set up a Route 53 active-passive failover configuration. Direct traffic to a static error page hosted within an Amazon S3 bucket when Route 53 health checks determine that the ALB endpoint is unhealthy.\n",
        "\n",
        "\n",
        "C. Update the Route 53 record to use a latency-based routing policy. Add the backup static error page hosted within an Amazon S3 bucket to the record so the traffic is sent to the most responsive endpoints.\n",
        "\n",
        "\n",
        "D. Set up a Route 53 active-active configuration with the ALB and an Amazon EC2 instance hosting a static error page as endpoints. Route 53 will only send requests to the instance if the health checks fail for the ALB.\n",
        "\n",
        "\n",
        "\n",
        "------------------------- \n",
        "B"
      ]
    },
    {
      "cell_type": "markdown",
      "metadata": {
        "id": "qUI9U5CZU3hn"
      },
      "source": [
        "[번역]\n",
        "솔루션 설계자는 기본 웹 사이트를 사용할 수 없는 경우 사용자가 백업 정적 오류 페이지로 이동하도록 하는 솔루션을 설계하고 있습니다. 기본 websiteג€™\n",
        "DNS 레코드는 도메인이 ALB(Application Load Balancer)를 가리키는 Amazon Route 53에서 호스팅됩니다.\n",
        "설계자가 변경 및 인프라 오버헤드를 최소화하면서 companyג€™ 요구 사항을 충족하는 데 사용할 구성은 무엇입니까?\n",
        "\n",
        "A. 루트 53 별칭 레코드를 ALB를 원산지 중 하나로 Amazon CloudFront 배포에 가리킵니다. 그런 다음 배포에 대한 사용자 지정 오류 페이지를 만듭니다.\n",
        "\n",
        "B. Route 53 활성 패시브 장애 조치 구성을 설정합니다. Route 53 상태 확인결과 ALB 끝점이 비정상인지 확인할 때 Amazon S3 버킷 내에서 호스팅되는 정적 오류 페이지로 직접 트래픽이 발생합니다.\n",
        "\n",
        "C. Route 53 레코드를 업데이트하여 대기 시간 기반 라우팅 정책을 사용합니다. Amazon S3 버킷 내에서 호스팅되는 백업 정적 오류 페이지를 레코드에 추가하여 트래픽이 가장 응답성이 뛰어난 끝점으로 전송되도록 합니다.\n",
        "\n",
        "D. ALB와 Amazon EC2 인스턴스를 엔드포인트로 호스팅하는 Route 53 활성 활성 구성을 설정합니다. Route 53은 ALB에 대한 상태 확인이 실패하는 경우에만 인스턴스에 요청을 보냅니다."
      ]
    },
    {
      "cell_type": "markdown",
      "metadata": {
        "id": "j0efFTEQVS3v"
      },
      "source": [
        "A solutions architect is designing a high performance computing (HPC) workload on Amazon EC2. The EC2 instances need to communicate to each other frequently and require network performance with low latency and high throughput.\n",
        "Which EC2 configuration meets these requirements?\n",
        "\n",
        "A. Launch the EC2 instances in a cluster placement group in one Availability Zone.\n",
        "\n",
        "B. Launch the EC2 instances in a spread placement group in one Availability Zone.\n",
        "\n",
        "C. Launch the EC2 instances in an Auto Scaling group in two Regions and peer the VPCs.\n",
        "\n",
        "D. Launch the EC2 instances in an Auto Scaling group spanning multiple Availability Zones.\n",
        "\n",
        "--------------\n",
        "\n",
        "A"
      ]
    },
    {
      "cell_type": "markdown",
      "metadata": {
        "id": "ktdDutSeWJdd"
      },
      "source": [
        "솔루션 설계자는 Amazon EC2에서 고성능 컴퓨팅(HPC) 워크로드를 설계하고 있습니다. EC2 인스턴스는 서로 자주 통신해야 하며 대기 시간이 낮고 처리량이 많은 네트워크 성능이 필요합니다.\n",
        "이러한 요구 사항을 충족하는 EC2 구성은 무엇입니까?\n",
        "\n",
        "A. 하나의 가용성 영역에서 클러스터 배치 그룹에서 EC2 인스턴스를 시작합니다.\n",
        "\n",
        "B. 하나의 가용성 영역에서 확산 배치 그룹에서 EC2 인스턴스를 시작합니다.\n",
        "\n",
        "C. 두 리전에서 자동 크기 조정 그룹에서 EC2 인스턴스를 시작하고 VP를 피어링합니다.\n",
        "\n",
        "D. 여러 가용성 영역에 걸친 자동 크기 조정 그룹에서 EC2 인스턴스를 시작합니다."
      ]
    },
    {
      "cell_type": "markdown",
      "metadata": {
        "id": "c4QeD8DMWgIZ"
      },
      "source": [
        "A company wants to host a scalable web application on AWS. The application will be accessed by users from different geographic regions of the world.\n",
        "Application users will be able to download and upload unique data up to gigabytes in size. The development team wants a cost-effective solution to minimize upload and download latency and maximize performance.\n",
        "What should a solutions architect do to accomplish this?\n",
        "\n",
        "A. Use Amazon S3 with Transfer Acceleration to host the application.\n",
        "\n",
        "B. Use Amazon S3 with CacheControl headers to host the application.\n",
        "\n",
        "C. Use Amazon EC2 with Auto Scaling and Amazon CloudFront to host the \n",
        "application.\n",
        "\n",
        "D. Use Amazon EC2 with Auto Scaling and Amazon ElastiCache to host the \n",
        "application.\n",
        "\n",
        "--------------\n",
        "\n",
        "A와 C가 싸우는중. "
      ]
    },
    {
      "cell_type": "markdown",
      "metadata": {
        "id": "9f8ClUfGWfv1"
      },
      "source": [
        "회사는 AWS에서 확장 가능한 웹 응용 프로그램을 호스팅하려고 합니다. 응용 프로그램은 세계의 다른 지리적 지역에서 사용자가 액세스 할 수 있습니다.\n",
        "응용 프로그램 사용자는 최대 기가바이트 크기의 고유 데이터를 다운로드하고 업로드할 수 있습니다. 개발 팀은 업로드 및 다운로드 대기 시간을 최소화하고 성능을 극대화하기 위한 비용 효율적인 솔루션을 원합니다.\n",
        "이 작업을 수행하기 위해 설계자가 해야 할 해결책은 무엇입니까?\n",
        "\n",
        "A. 전송 가속과 Amazon S3를 사용하여 응용 프로그램을 호스팅합니다.\n",
        "\n",
        "B. 캐시컨트롤 헤더로 Amazon S3을 사용하여 응용 프로그램을 호스팅합니다.\n",
        "\n",
        "C. 자동 크기 조정 및 Amazon CloudFront와 Amazon EC2를 사용하여 응용 프로그램을 호스팅합니다.\n",
        "\n",
        "D. 자동 크기 조정과 아마존 엘라스티캐시와 함께 Amazon EC2를 사용하여 응용 프로그램을 호스팅합니다."
      ]
    }
  ]
}